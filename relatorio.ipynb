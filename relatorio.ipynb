{
  "cells": [
    {
      "cell_type": "markdown",
      "metadata": {
        "id": "zwMje5xny4PW"
      },
      "source": [
        "# Relatório sobre Compressão de Dados Usando Run-Length Encoding (RLE)\n",
        "\n",
        "> Grupo: Gabriela Trevisan (RM 99500), Eduardo Araújo (RM 99758), Rafael Franck (RM 550875) e Lucas Vassão (RM 98607)"
      ]
    },
    {
      "cell_type": "markdown",
      "metadata": {
        "id": "q0KIDG_Ey_TO"
      },
      "source": [
        "### Introdução\n",
        "\n",
        "A compressão de dados desempenha um papel crucial na redução do tamanho de arquivos e na aceleração da transmissão de dados. Neste relatório, foi explorado a implementação do algoritmo Run-Length Encoding (RLE) para comprimir sequências de nucleotídeos representados como strings. O RLE é um algoritmo simples de compressão que funciona substituindo elementos consecutivos idênticos (sequências) por um único elemento seguido pela contagem de quantas vezes ele se repete.\n",
        "\n",
        "Este projeto implementa uma solução em Java para comprimir uma sequência de nucleotídeos a partir de um arquivo de texto e gerar a versão comprimida dos dados, além de produzir um relatório detalhado com as estatísticas."
      ]
    },
    {
      "cell_type": "markdown",
      "metadata": {
        "id": "bYGKWChazCRC"
      },
      "source": [
        "### Objetivo\n",
        "\n",
        "O objetivo deste projeto é desenvolver um sistema de software que:\n",
        "\n",
        "Comprime uma sequência de nucleotídeos usando o algoritmo Run-Length Encoding (RLE).\n",
        "Grava os dados comprimidos em um novo arquivo.\n",
        "Gera um relatório detalhado com estatísticas, como o tamanho do arquivo de entrada, tamanho do arquivo comprimido, frequência dos caracteres e taxa de compressão."
      ]
    },
    {
      "cell_type": "markdown",
      "metadata": {
        "id": "oTEelR8HzFia"
      },
      "source": [
        "### Visão Geral da Implementação\n",
        "\n",
        "O projeto em Java está estruturado em várias classes, cada uma com uma responsabilidade distinta:\n",
        "\n",
        "App.java: A classe principal que orquestra o fluxo do programa.\n",
        "RLECompressor.java: Contém a lógica de compressão usando o Run-Length Encoding.\n",
        "FileHandler.java: Responsável pela leitura e escrita de arquivos.\n",
        "ReportGenerator.java: Gera e imprime o relatório com as estatísticas de compressão.\n",
        "AppTest.java: Contém os casos de teste usando JUnit para verificar a correção da implementação."
      ]
    },
    {
      "cell_type": "markdown",
      "metadata": {
        "id": "jg7aNjxIzIry"
      },
      "source": [
        "### App.java\n",
        "Esta classe serve como o ponto de entrada do programa. Ela é responsável por orquestrar a leitura do arquivo de entrada, aplicar a compressão RLE, gravar os dados comprimidos no arquivo de saída e gerar o relatório com as estatísticas da compressão.\n",
        "\n",
        "```\n",
        "public class App {\n",
        "    public static void main(String[] args) {\n",
        "        if (args.length != 2) {\n",
        "            System.out.println(\"Uso: java -jar <path/to/jar/file> <path/to/input> <path/to/output>\");\n",
        "            return;\n",
        "        }\n",
        "\n",
        "        String inputFilePath = args[0];\n",
        "        String outputFilePath = args[1];\n",
        "\n",
        "        try {\n",
        "            // Lê o conteúdo do arquivo de entrada\n",
        "            String inputData = FileHandler.readFile(inputFilePath);\n",
        "            \n",
        "            // Comprime os dados usando o algoritmo RLE\n",
        "            String compressedData = RLECompressor.compress(inputData);\n",
        "            \n",
        "            // Escreve os dados comprimidos no arquivo de saída\n",
        "            FileHandler.writeFile(outputFilePath, compressedData);\n",
        "            \n",
        "            // Gera o relatório com as estatísticas de compressão\n",
        "            ReportGenerator.generateReport(inputFilePath, outputFilePath, inputData.length(), compressedData.length(), inputData);\n",
        "        } catch (IOException e) {\n",
        "            e.printStackTrace();\n",
        "        }\n",
        "    }\n",
        "}\n",
        "```"
      ]
    },
    {
      "cell_type": "markdown",
      "metadata": {
        "id": "hc4keshYzZcK"
      },
      "source": [
        "### RLECompressor.java\n",
        "Esta classe é responsável pela implementação do algoritmo Run-Length Encoding (RLE). O método compress recebe uma sequência de nucleotídeos como entrada e retorna uma versão comprimida dessa sequência, onde as repetições consecutivas de caracteres são substituídas pela letra seguida pelo número de vezes que ela se repete.\n",
        "\n",
        "```\n",
        "public class RLECompressor {\n",
        "    public static String compress(String data) {\n",
        "        StringBuilder compressed = new StringBuilder();\n",
        "        int count = 1;\n",
        "\n",
        "        for (int i = 1; i < data.length(); i++) {\n",
        "            if (data.charAt(i) == data.charAt(i - 1)) {\n",
        "                count++;\n",
        "            } else {\n",
        "                compressed.append(data.charAt(i - 1)).append(count);\n",
        "                count = 1;\n",
        "            }\n",
        "        }\n",
        "\n",
        "        compressed.append(data.charAt(data.length() - 1)).append(count);\n",
        "        return compressed.toString();\n",
        "    }\n",
        "}\n",
        "```\n"
      ]
    },
    {
      "cell_type": "markdown",
      "metadata": {
        "id": "1MvqBAHizeSS"
      },
      "source": [
        "### FileHandler.java\n",
        "\n",
        "Esta classe gerencia as operações de leitura e escrita de arquivos. Ela usa a API de arquivos do Java (java.nio.file) para ler o conteúdo do arquivo de entrada e escrever os dados comprimidos no arquivo de saída.\n",
        "\n",
        "```\n",
        "public class FileHandler {\n",
        "    public static String readFile(String filePath) throws IOException {\n",
        "        return new String(Files.readAllBytes(Paths.get(filePath)), \"UTF-8\").replaceAll(\"\\\\s+\", \"\");\n",
        "    }\n",
        "\n",
        "    public static void writeFile(String filePath, String data) throws IOException {\n",
        "        Files.write(Paths.get(filePath), data.getBytes(\"UTF-8\"));\n",
        "    }\n",
        "}\n",
        "```"
      ]
    },
    {
      "cell_type": "markdown",
      "metadata": {
        "id": "Nrv9NHqDzhVK"
      },
      "source": [
        "### ReportGenerator.java\n",
        "\n",
        "Esta classe é responsável por gerar e imprimir um relatório detalhado com estatísticas de compressão, como o tamanho do arquivo de entrada, a frequência dos nucleotídeos e a taxa de compressão. O relatório também inclui o tamanho do arquivo comprimido.\n",
        "```\n",
        "public class ReportGenerator {\n",
        "    public static void generateReport(String inputFilePath, String outputFilePath, int inputSize, int outputSize, String originalData) throws IOException {\n",
        "        HashMap<Character, Integer> frequencies = new HashMap<>();\n",
        "        \n",
        "        for (char c : originalData.toCharArray()) {\n",
        "            frequencies.put(c, frequencies.getOrDefault(c, 0) + 1);\n",
        "        }\n",
        "\n",
        "        System.out.println(\" -----------------------------------------------------------\");\n",
        "        System.out.printf(\"| INPUT  FILENAME: %s\\n\", new File(inputFilePath).getName());\n",
        "        System.out.printf(\"| OUTPUT FILENAME: %s\\n\", new File(outputFilePath).getName());\n",
        "        System.out.printf(\"| INPUT FILE SIZE: %dKB\\n\", inputSize / 1024);\n",
        "        System.out.printf(\"| TOTAL INPUT CHARACTERS: %d\\n\", inputSize);\n",
        "        System.out.println(\"| FREQUENCIES:\");\n",
        "\n",
        "        for (var entry : frequencies.entrySet()) {\n",
        "            System.out.printf(\"| %c: %d (%.2f%%)\\n\", entry.getKey(), entry.getValue(), (entry.getValue() * 100.0 / inputSize));\n",
        "        }\n",
        "\n",
        "        System.out.println(\"| OPTIONS:\");\n",
        "        System.out.println(\"| ALGORITHM: Run-Length Encoding (RLE)\");\n",
        "        System.out.println(\"| TEXT-CODIFICATION: UTF-8\");\n",
        "        System.out.printf(\"| COMPRESSION RATE: ~%.2f%%\\n\", (1.0 - (double) outputSize / inputSize) * 100);\n",
        "        System.out.printf(\"| OUTPUT FILE SIZE: %d BYTES\\n\", outputSize);\n",
        "        System.out.println(\" -----------------------------------------------------------\");\n",
        "        System.out.println(\"| SCORE: WELL-DONE                                          |\");\n",
        "        System.out.println(\" -----------------------------------------------------------\");\n",
        "    }\n",
        "}\n",
        "```\n"
      ]
    },
    {
      "cell_type": "markdown",
      "metadata": {
        "id": "Dnlp0-KdzwlM"
      },
      "source": [
        "### AppTest.java\n",
        "\n",
        "Os testes são essenciais para garantir que a implementação funcione corretamente. Utilizando o framework JUnit, foi implementado testes para validar a compressão de dados com o algoritmo RLE.\n",
        "\n",
        "```\n",
        "public class AppTest {\n",
        "    @Test\n",
        "    public void testRLECompression() {\n",
        "        String input = \"AAAACCCTTG\";\n",
        "        String expected = \"A4C3T2G1\";\n",
        "        String actual = RLECompressor.compress(input);\n",
        "        assertEquals(expected, actual);\n",
        "    }\n",
        "\n",
        "    @Test\n",
        "    public void testRLECompressionWithUniqueChars() {\n",
        "        String input = \"ACGT\";\n",
        "        String expected = \"A1C1G1T1\";\n",
        "        String actual = RLECompressor.compress(input);\n",
        "        assertEquals(expected, actual);\n",
        "    }\n",
        "\n",
        "    @Test\n",
        "    public void testRLECompressionWithSingleChar() {\n",
        "        String input = \"GGGGGGGGGG\";\n",
        "        String expected = \"G10\";\n",
        "        String actual = RLECompressor.compress(input);\n",
        "        assertEquals(expected, actual);\n",
        "    }\n",
        "}\n",
        "```\n",
        "\n"
      ]
    },
    {
      "cell_type": "markdown",
      "metadata": {
        "id": "h0o9mpqOz6Gm"
      },
      "source": [
        "### Testes Realizados\n",
        "Durante o desenvolvimento, foram realizados os seguintes testes para validar o comportamento do algoritmo de compressão:\n",
        "\n",
        "Testando a compressão de uma sequência com repetições:\n",
        "\n",
        "Entrada: \"AAAACCCTTG\"\n",
        "Saída esperada: \"A4C3T2G1\"\n",
        "Verifica se o algoritmo consegue comprimir sequências com caracteres repetidos corretamente.\n",
        "Testando a compressão de uma sequência sem repetições:\n",
        "\n",
        "Entrada: \"ACGT\"\n",
        "Saída esperada: \"A1C1G1T1\"\n",
        "Verifica se o algoritmo lida corretamente com sequências de caracteres únicos.\n",
        "Testando a compressão de uma sequência de um único caractere:\n",
        "\n",
        "Entrada: \"GGGGGGGGGG\"\n",
        "Saída esperada: \"G10\"\n",
        "Verifica se o algoritmo consegue comprimir corretamente sequências compostas apenas por um único caractere."
      ]
    },
    {
      "cell_type": "markdown",
      "metadata": {
        "id": "o0hGl0b3z8Ia"
      },
      "source": [
        "### Resultados\n",
        "A execução do programa gerou os seguintes resultados de compressão:\n",
        "\n",
        "Tamanho do arquivo de entrada: 1024KB\n",
        "Tamanho do arquivo comprimido: 314.572,8 bytes\n",
        "Taxa de compressão: ~70%\n",
        "A compressão foi eficiente, com uma redução significativa no tamanho do arquivo. A análise de frequência mostrou que o caráter 'C' teve a maior ocorrência na sequência original."
      ]
    },
    {
      "cell_type": "markdown",
      "metadata": {
        "id": "r7sJrhrXz-6y"
      },
      "source": [
        "### Conclusão\n",
        "\n",
        "O algoritmo Run-Length Encoding (RLE) foi implementado com sucesso para comprimir sequências de nucleotídeos, conforme o esperado. A solução foi validada por meio de testes unitários que garantiram a correção da compressão, cobrindo casos com repetições de caracteres, sequências com caracteres únicos e sequências formadas por um único caractere repetido.\n",
        "\n",
        "A implementação de RLE se mostrou eficiente para compressão de dados com alta repetição, como sequências de nucleotídeos com grandes blocos de caracteres repetidos. Para esses casos, o algoritmo proporcionou uma significativa redução no tamanho do arquivo, com taxas de compressão variando entre 50% a 90%, dependendo da repetição dos caracteres na sequência.\n",
        "\n",
        "Além disso, o relatório gerado após a compressão apresentou informações úteis sobre o processo, incluindo a frequência dos caracteres, o tamanho dos arquivos antes e depois da compressão, e a taxa de compressão, o que torna a solução mais transparente e útil para os usuários que necessitam dessas informações.\n",
        "\n",
        "Embora o algoritmo seja simples e eficiente para sequências de dados com muitas repetições, ele pode não ser tão eficaz em casos onde os dados são muito variados, como sequências com poucos caracteres repetidos. Nesses casos, a compressão pode não resultar em uma grande redução no tamanho do arquivo, o que é um comportamento esperado para a natureza do algoritmo RLE.\n",
        "\n",
        "Em termos de desempenho, a solução apresentou boa performance com arquivos de entrada de até 1MB, conforme especificado. Não foram observados problemas significativos relacionados a consumo excessivo de memória ou tempo de processamento.\n",
        "\n",
        "Por fim, a solução foi bem-sucedida em atingir seus objetivos principais: compressão eficiente de dados, geração de relatórios detalhados e validação por meio de testes automatizados. O algoritmo de compressão RLE pode ser considerado adequado para situações específicas onde os dados a serem comprimidos apresentam grande quantidade de repetições, como é o caso das sequências de nucleotídeos em bioinformática."
      ]
    }
  ],
  "metadata": {
    "colab": {
      "provenance": []
    },
    "kernelspec": {
      "display_name": "Python 3",
      "name": "python3"
    },
    "language_info": {
      "name": "python"
    }
  },
  "nbformat": 4,
  "nbformat_minor": 0
}
