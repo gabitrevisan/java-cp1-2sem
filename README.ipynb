{
  "nbformat": 4,
  "nbformat_minor": 0,
  "metadata": {
    "colab": {
      "provenance": []
    },
    "kernelspec": {
      "name": "python3",
      "display_name": "Python 3"
    },
    "language_info": {
      "name": "python"
    }
  },
  "cells": [
    {
      "cell_type": "markdown",
      "source": [
        "# README\n",
        "\n",
        "Este projeto implementa um algoritmo de compressão de dados utilizando o Run-Length Encoding (RLE). O objetivo é comprimir sequências de nucleotídeos a partir de um arquivo de texto e gerar um arquivo comprimido, além de fornecer um relatório detalhado sobre o processo de compressão."
      ],
      "metadata": {
        "id": "zwMje5xny4PW"
      }
    },
    {
      "cell_type": "markdown",
      "source": [
        "### Pré-requisitos\n",
        "\n",
        "Antes de executar o programa, você precisará garantir que os seguintes requisitos estejam instalados e configurados:\n",
        "\n",
        "- Java 11 ou superior: O projeto foi desenvolvido em Java e requer o JDK 11 ou uma versão mais recente para compilação e execução.\n",
        "- Maven: Usado para gerenciamento de dependências e construção do projeto (se você quiser construir o projeto a partir do código-fonte)."
      ],
      "metadata": {
        "id": "q0KIDG_Ey_TO"
      }
    },
    {
      "cell_type": "markdown",
      "source": [
        "### Instalação\n",
        "\n",
        "1. Clonando o Repositório\n",
        "Se você ainda não tem o repositório em sua máquina, pode cloná-lo usando o comando:\n",
        "```\n",
        "git clone https://github.com/gabitrevisan/java-cp1-2sem.git\n",
        "```\n",
        "```\n",
        "cd libunclepresser\n",
        "```\n"
      ],
      "metadata": {
        "id": "bYGKWChazCRC"
      }
    },
    {
      "cell_type": "markdown",
      "source": [
        "### Executando o Programa\n",
        "\n",
        "Após ter o arquivo JAR pronto (ou se você já tiver um arquivo JAR pronto), você pode executar o programa a partir da linha de comando, fornecendo os caminhos para os arquivos de entrada e saída como argumentos.\n",
        "\n",
        "1. Sintaxe para Execução\n",
        "```\n",
        "java -jar <caminho/para/jar/file> <caminho/para/entrada> <caminho/para/saida>\n",
        "```\n",
        "\n",
        "2. Exemplo de Execução\n",
        "> Coloque o arquivo de entrada (um arquivo .txt contendo a sequência de nucleotídeos) na pasta inputs ou em qualquer outro diretório de sua escolha.\n",
        "> Exemplo de arquivo de entrada (input.txt):\n",
        "```\n",
        "AAAACCCTTG\n",
        "```\n",
        "\n",
        "3. Para executar o programa, use o comando abaixo. O arquivo input.txt será lido, a compressão será realizada e o arquivo comprimido será gerado no arquivo de saída output.txt.\n",
        "```\n",
        "java -jar target/libunclepresser-1.0-SNAPSHOT.jar inputs/input.txt outputs/output.txt\n",
        "```\n",
        "\n",
        "> Neste exemplo:\n",
        ">> inputs/input.txt: Caminho para o arquivo de entrada contendo a sequência de nucleotídeos.\n",
        ">> outputs/output.txt: Caminho para o arquivo de saída, onde os dados comprimidos serão salvos.\n",
        "\n",
        "\n",
        "\n",
        "\n"
      ],
      "metadata": {
        "id": "oTEelR8HzFia"
      }
    },
    {
      "cell_type": "markdown",
      "source": [
        "### Formato de Entrada\n",
        "O arquivo de entrada deve ser um arquivo de texto com extensão .txt.\n",
        "O conteúdo do arquivo deve ser uma sequência de nucleotídeos (A, C, G, T), podendo ter quebras de linha, mas o programa irá ignorá-las.\n",
        "\n",
        "### Formato de Saída\n",
        "O arquivo de saída será um arquivo .txt com a sequência comprimida no formato Run-Length Encoding (RLE), onde sequências repetidas de caracteres são representadas pelo caractere seguido pela quantidade de repetições.\n",
        "\n",
        "> Exemplo de saída para a entrada \"AAAACCCTTG\":\n",
        "```\n",
        "A4C3T2G1\n",
        "```\n",
        "\n"
      ],
      "metadata": {
        "id": "jg7aNjxIzIry"
      }
    },
    {
      "cell_type": "markdown",
      "source": [
        "### Relatório de Compressão\n",
        "Após a execução, o programa gera um relatório com informações detalhadas sobre o processo de compressão, como:\n",
        "\n",
        "Tamanho do arquivo de entrada.\n",
        "Frequência de cada caractere (nucleotídeo).\n",
        "Tamanho do arquivo comprimido.\n",
        "Taxa de compressão.\n",
        "O relatório será exibido no terminal, contendo os seguintes detalhes:\n",
        "```\n",
        " -----------------------------------------------------------\n",
        "| INPUT  FILENAME: input.txt                                 |\n",
        "| OUTPUT FILENAME: output.txt                                |\n",
        "|                                                           |\n",
        "| INPUT FILE SIZE: 1024KB                                   |\n",
        "| TOTAL INPUT CHARACTERS: 1.048.576                         |\n",
        "|                                                           |\n",
        "| FREQUENCIES:                                              |\n",
        "| A: 262_144.0  (25.00%)                                    |\n",
        "| C: 524_288.0  (50.00%)                                    |\n",
        "| T: 131_072.0  (12.50%)                                    |\n",
        "| G: 131_072.0  (12.50%)                                    |\n",
        "|                                                           |\n",
        "| OPTIONS:                                                  |\n",
        "|                                                           |\n",
        "| ALGORITHM: Run-Length Encoding (RLE)                      |\n",
        "| TEXT-CODIFICATION: UTF-8                                  |\n",
        "| COMPRESSION RATE: ~70%                                    |\n",
        "|                                                           |\n",
        "| OUTPUT FILE SIZE: 314,572.8 BYTES                         |\n",
        " -----------------------------------------------------------\n",
        "| SCORE: WELL-DONE                                          |\n",
        " -----------------------------------------------------------\n",
        "```\n"
      ],
      "metadata": {
        "id": "hc4keshYzZcK"
      }
    },
    {
      "cell_type": "markdown",
      "source": [
        "### FileHandler.java\n",
        "\n",
        "Esta classe gerencia as operações de leitura e escrita de arquivos. Ela usa a API de arquivos do Java (java.nio.file) para ler o conteúdo do arquivo de entrada e escrever os dados comprimidos no arquivo de saída.\n",
        "\n",
        "```\n",
        "public class FileHandler {\n",
        "    public static String readFile(String filePath) throws IOException {\n",
        "        return new String(Files.readAllBytes(Paths.get(filePath)), \"UTF-8\").replaceAll(\"\\\\s+\", \"\");\n",
        "    }\n",
        "\n",
        "    public static void writeFile(String filePath, String data) throws IOException {\n",
        "        Files.write(Paths.get(filePath), data.getBytes(\"UTF-8\"));\n",
        "    }\n",
        "}\n",
        "```"
      ],
      "metadata": {
        "id": "1MvqBAHizeSS"
      }
    },
    {
      "cell_type": "markdown",
      "source": [
        "### Testes Automatizados\n",
        "O projeto inclui testes automatizados para validar a implementação do algoritmo RLE. Você pode executar os testes usando o framework JUnit.\n",
        "\n",
        "> Executando os Testes\n",
        "Para rodar os testes automatizados, use o seguinte comando Maven:\n",
        "```\n",
        "mvn test\n",
        "```\n",
        "> Os testes irão verificar se a compressão de sequências de nucleotídeos está funcionando corretamente.\n",
        "\n"
      ],
      "metadata": {
        "id": "Nrv9NHqDzhVK"
      }
    },
    {
      "cell_type": "markdown",
      "source": [
        "### Considerações Finais\n",
        "Run-Length Encoding (RLE) é um algoritmo de compressão simples e eficiente para dados com muitas repetições. No entanto, ele não é ideal para dados sem repetições, pois pode até aumentar o tamanho do arquivo.\n",
        "\n",
        "O sistema permite a compressão de arquivos grandes de até 1024KB e pode ser adaptado para outros tipos de dados."
      ],
      "metadata": {
        "id": "Dnlp0-KdzwlM"
      }
    }
  ]
}